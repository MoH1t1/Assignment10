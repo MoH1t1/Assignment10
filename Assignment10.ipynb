{
  "metadata": {
    "kernelspec": {
      "name": "python",
      "display_name": "Python (Pyodide)",
      "language": "python"
    },
    "language_info": {
      "codemirror_mode": {
        "name": "python",
        "version": 3
      },
      "file_extension": ".py",
      "mimetype": "text/x-python",
      "name": "python",
      "nbconvert_exporter": "python",
      "pygments_lexer": "ipython3",
      "version": "3.8"
    }
  },
  "nbformat_minor": 4,
  "nbformat": 4,
  "cells": [
    {
      "cell_type": "code",
      "source": "# Q1. What is multithreading in python? Why is it used? Name the module used to handle threads in python.\n\n# Multithreading is a technique where multiple threads are run concurrently within the same process. It is used to perform multiple tasks simultaneously.\n# The threading module is used to handle threads in Python. ",
      "metadata": {
        "trusted": true
      },
      "outputs": [],
      "execution_count": null
    },
    {
      "cell_type": "code",
      "source": "# Q2. Why threading module used? Write the use of the following functions: activeCount(), currentThread() and enumerate().\n\n# The threading module is used to manage threads efficiently. It provides tools to create, control, and synchronize threads. Functions are:\n# activeCount(): Returns the number of Thread objects currently alive.\n# currentThread(): Returns the current thread object corresponding to the caller's thread of control.\n# enumerate(): Returns a list of all active Thread objects.",
      "metadata": {
        "trusted": true
      },
      "outputs": [],
      "execution_count": null
    },
    {
      "cell_type": "code",
      "source": "# Q3. Explain the following functions: run(), start(), join() and isAlive()\n\n# run(): The run() method contains the code that a thread executes. It is invoked when the thread starts.\n# start(): Starts a thread by calling the run() method internally.\n# join(): Blocks the calling thread until the thread whose join() is called terminates.\n# isAlive(): Checks whether a thread is still running or has completed execution.",
      "metadata": {
        "trusted": true
      },
      "outputs": [],
      "execution_count": null
    },
    {
      "cell_type": "code",
      "source": "# Q4. Write a python program to create two threads. Thread one must print the list of squares and thread two must print the list of cubes.\n\nimport threading\n\ndef print_squares(numbers):\n    print(\"Squares:\")\n    for num in numbers:\n        print(num ** 2)\n\ndef print_cubes(numbers):\n    print(\"Cubes:\")\n    for num in numbers:\n        print(num ** 3)\n\nnumbers = [1, 2, 3, 4, 5]\n\nthread1 = threading.Thread(target=print_squares, args=(numbers,))\nthread2 = threading.Thread(target=print_cubes, args=(numbers,))\nthread1.start()\nthread2.start()\nthread1.join()\nthread2.join()\n",
      "metadata": {
        "trusted": true
      },
      "outputs": [
        {
          "ename": "<class 'RuntimeError'>",
          "evalue": "can't start new thread",
          "traceback": [
            "\u001b[0;31m---------------------------------------------------------------------------\u001b[0m",
            "\u001b[0;31mRuntimeError\u001b[0m                              Traceback (most recent call last)",
            "Cell \u001b[0;32mIn[1], line 19\u001b[0m\n\u001b[1;32m     17\u001b[0m thread1 \u001b[38;5;241m=\u001b[39m threading\u001b[38;5;241m.\u001b[39mThread(target\u001b[38;5;241m=\u001b[39mprint_squares, args\u001b[38;5;241m=\u001b[39m(numbers,))\n\u001b[1;32m     18\u001b[0m thread2 \u001b[38;5;241m=\u001b[39m threading\u001b[38;5;241m.\u001b[39mThread(target\u001b[38;5;241m=\u001b[39mprint_cubes, args\u001b[38;5;241m=\u001b[39m(numbers,))\n\u001b[0;32m---> 19\u001b[0m \u001b[43mthread1\u001b[49m\u001b[38;5;241;43m.\u001b[39;49m\u001b[43mstart\u001b[49m\u001b[43m(\u001b[49m\u001b[43m)\u001b[49m\n\u001b[1;32m     20\u001b[0m thread2\u001b[38;5;241m.\u001b[39mstart()\n\u001b[1;32m     21\u001b[0m thread1\u001b[38;5;241m.\u001b[39mjoin()\n",
            "File \u001b[0;32m/lib/python312.zip/threading.py:992\u001b[0m, in \u001b[0;36mThread.start\u001b[0;34m(self)\u001b[0m\n\u001b[1;32m    990\u001b[0m     _limbo[\u001b[38;5;28mself\u001b[39m] \u001b[38;5;241m=\u001b[39m \u001b[38;5;28mself\u001b[39m\n\u001b[1;32m    991\u001b[0m \u001b[38;5;28;01mtry\u001b[39;00m:\n\u001b[0;32m--> 992\u001b[0m     \u001b[43m_start_new_thread\u001b[49m\u001b[43m(\u001b[49m\u001b[38;5;28;43mself\u001b[39;49m\u001b[38;5;241;43m.\u001b[39;49m\u001b[43m_bootstrap\u001b[49m\u001b[43m,\u001b[49m\u001b[43m \u001b[49m\u001b[43m(\u001b[49m\u001b[43m)\u001b[49m\u001b[43m)\u001b[49m\n\u001b[1;32m    993\u001b[0m \u001b[38;5;28;01mexcept\u001b[39;00m \u001b[38;5;167;01mException\u001b[39;00m:\n\u001b[1;32m    994\u001b[0m     \u001b[38;5;28;01mwith\u001b[39;00m _active_limbo_lock:\n",
            "\u001b[0;31mRuntimeError\u001b[0m: can't start new thread"
          ],
          "output_type": "error"
        }
      ],
      "execution_count": 1
    },
    {
      "cell_type": "code",
      "source": "# Q5. State advantages and disadvantages of multithreading.\n\n# Advantages:\n# Efficient CPU utilization.\n# Concurrent execution for I/O-bound and lightweight tasks.\n# Shared memory space allows easy communication between threads.\n    \n# Disadvantages:\n# Python's Global Interpreter Lock (GIL) can limit performance for CPU-bound tasks.\n# Debugging is more complex due to race conditions and deadlocks.",
      "metadata": {
        "trusted": true
      },
      "outputs": [],
      "execution_count": null
    },
    {
      "cell_type": "code",
      "source": "# Q6. Explain deadlocks and race conditions.\n\n# Deadlocks: Occur when two or more threads are waiting for each other to release resources, causing them to be stuck indefinitely.\n# Race conditions: Happen when two or more threads access shared data simultaneously, leading to unpredictable and erroneous results.",
      "metadata": {
        "trusted": true
      },
      "outputs": [],
      "execution_count": null
    }
  ]
}